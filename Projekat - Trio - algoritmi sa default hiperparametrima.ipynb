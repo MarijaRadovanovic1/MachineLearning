{
 "cells": [
  {
   "cell_type": "markdown",
   "metadata": {},
   "source": [
    "Ucitavanje baze:"
   ]
  },
  {
   "cell_type": "code",
   "execution_count": 1,
   "metadata": {},
   "outputs": [],
   "source": [
    "import numpy as np\n",
    "import pandas as pd\n",
    "pd.set_option('display.max_columns', 500)"
   ]
  },
  {
   "cell_type": "code",
   "execution_count": 2,
   "metadata": {},
   "outputs": [
    {
     "data": {
      "text/html": [
       "<div>\n",
       "<style scoped>\n",
       "    .dataframe tbody tr th:only-of-type {\n",
       "        vertical-align: middle;\n",
       "    }\n",
       "\n",
       "    .dataframe tbody tr th {\n",
       "        vertical-align: top;\n",
       "    }\n",
       "\n",
       "    .dataframe thead th {\n",
       "        text-align: right;\n",
       "    }\n",
       "</style>\n",
       "<table border=\"1\" class=\"dataframe\">\n",
       "  <thead>\n",
       "    <tr style=\"text-align: right;\">\n",
       "      <th></th>\n",
       "      <th>Unnamed: 0</th>\n",
       "      <th>VehYear</th>\n",
       "      <th>VehicleAge</th>\n",
       "      <th>VehOdo</th>\n",
       "      <th>VNZIP1</th>\n",
       "      <th>VehBCost</th>\n",
       "      <th>IsOnlineSale</th>\n",
       "      <th>WarrantyCost</th>\n",
       "      <th>PurchYear</th>\n",
       "      <th>AcquisitionAuctionRatio</th>\n",
       "      <th>AcquisitionRetailRatio</th>\n",
       "      <th>CurrentAuctionRatio</th>\n",
       "      <th>CurrentRetailRatio</th>\n",
       "      <th>Make_ACURA</th>\n",
       "      <th>Make_BUICK</th>\n",
       "      <th>Make_CADILLAC</th>\n",
       "      <th>Make_CHEVROLET</th>\n",
       "      <th>Make_CHRYSLER</th>\n",
       "      <th>Make_DODGE</th>\n",
       "      <th>Make_FORD</th>\n",
       "      <th>Make_GMC</th>\n",
       "      <th>Make_HONDA</th>\n",
       "      <th>Make_HUMMER</th>\n",
       "      <th>Make_HYUNDAI</th>\n",
       "      <th>Make_INFINITI</th>\n",
       "      <th>Make_ISUZU</th>\n",
       "      <th>Make_JEEP</th>\n",
       "      <th>Make_KIA</th>\n",
       "      <th>Make_LEXUS</th>\n",
       "      <th>Make_LINCOLN</th>\n",
       "      <th>Make_MAZDA</th>\n",
       "      <th>Make_MERCURY</th>\n",
       "      <th>Make_MINI</th>\n",
       "      <th>Make_MITSUBISHI</th>\n",
       "      <th>Make_NISSAN</th>\n",
       "      <th>Make_OLDSMOBILE</th>\n",
       "      <th>Make_PLYMOUTH</th>\n",
       "      <th>Make_PONTIAC</th>\n",
       "      <th>Make_SATURN</th>\n",
       "      <th>Make_SCION</th>\n",
       "      <th>Make_SUBARU</th>\n",
       "      <th>Make_SUZUKI</th>\n",
       "      <th>Make_TOYOTA</th>\n",
       "      <th>Make_VOLKSWAGEN</th>\n",
       "      <th>Make_VOLVO</th>\n",
       "      <th>Color_BEIGE</th>\n",
       "      <th>Color_BLACK</th>\n",
       "      <th>Color_BLUE</th>\n",
       "      <th>Color_BROWN</th>\n",
       "      <th>Color_GOLD</th>\n",
       "      <th>Color_GREEN</th>\n",
       "      <th>Color_GREY</th>\n",
       "      <th>Color_MAROON</th>\n",
       "      <th>Color_NOT AVAIL</th>\n",
       "      <th>Color_ORANGE</th>\n",
       "      <th>Color_OTHER</th>\n",
       "      <th>Color_PURPLE</th>\n",
       "      <th>Color_RED</th>\n",
       "      <th>Color_SILVER</th>\n",
       "      <th>Color_WHITE</th>\n",
       "      <th>Color_YELLOW</th>\n",
       "      <th>Transmission_AUTO</th>\n",
       "      <th>Transmission_MANUAL</th>\n",
       "      <th>WheelType_Alloy</th>\n",
       "      <th>WheelType_Covers</th>\n",
       "      <th>Nationality_AMERICAN</th>\n",
       "      <th>Nationality_OTHER</th>\n",
       "      <th>Nationality_OTHER ASIAN</th>\n",
       "      <th>Nationality_TOP LINE ASIAN</th>\n",
       "      <th>Size_COMPACT</th>\n",
       "      <th>Size_CROSSOVER</th>\n",
       "      <th>Size_LARGE</th>\n",
       "      <th>Size_LARGE SUV</th>\n",
       "      <th>Size_LARGE TRUCK</th>\n",
       "      <th>Size_MEDIUM</th>\n",
       "      <th>Size_MEDIUM SUV</th>\n",
       "      <th>Size_SMALL SUV</th>\n",
       "      <th>Size_SMALL TRUCK</th>\n",
       "      <th>Size_SPECIALTY</th>\n",
       "      <th>Size_SPORTS</th>\n",
       "      <th>Size_VAN</th>\n",
       "      <th>TopThreeAmericanName_CHRYSLER</th>\n",
       "      <th>TopThreeAmericanName_FORD</th>\n",
       "      <th>TopThreeAmericanName_GM</th>\n",
       "      <th>TopThreeAmericanName_OTHER</th>\n",
       "      <th>IsBadBuy</th>\n",
       "    </tr>\n",
       "  </thead>\n",
       "  <tbody>\n",
       "    <tr>\n",
       "      <th>0</th>\n",
       "      <td>0</td>\n",
       "      <td>-0.191806</td>\n",
       "      <td>-0.106505</td>\n",
       "      <td>0.157568</td>\n",
       "      <td>-0.930981</td>\n",
       "      <td>-1.065435</td>\n",
       "      <td>-0.166793</td>\n",
       "      <td>0.194455</td>\n",
       "      <td>-1.031687</td>\n",
       "      <td>-2.244656</td>\n",
       "      <td>-0.629052</td>\n",
       "      <td>-1.410765</td>\n",
       "      <td>-0.681319</td>\n",
       "      <td>0.0</td>\n",
       "      <td>0.0</td>\n",
       "      <td>0.0</td>\n",
       "      <td>0.0</td>\n",
       "      <td>0.0</td>\n",
       "      <td>1.0</td>\n",
       "      <td>0.0</td>\n",
       "      <td>0.0</td>\n",
       "      <td>0.0</td>\n",
       "      <td>0.0</td>\n",
       "      <td>0.0</td>\n",
       "      <td>0.0</td>\n",
       "      <td>0.0</td>\n",
       "      <td>0.0</td>\n",
       "      <td>0.0</td>\n",
       "      <td>0.0</td>\n",
       "      <td>0.0</td>\n",
       "      <td>0.0</td>\n",
       "      <td>0.0</td>\n",
       "      <td>0.0</td>\n",
       "      <td>0.0</td>\n",
       "      <td>0.0</td>\n",
       "      <td>0.0</td>\n",
       "      <td>0.0</td>\n",
       "      <td>0.0</td>\n",
       "      <td>0.0</td>\n",
       "      <td>0.0</td>\n",
       "      <td>0.0</td>\n",
       "      <td>0.0</td>\n",
       "      <td>0.0</td>\n",
       "      <td>0.0</td>\n",
       "      <td>0.0</td>\n",
       "      <td>0.0</td>\n",
       "      <td>0.0</td>\n",
       "      <td>0.0</td>\n",
       "      <td>0.0</td>\n",
       "      <td>0.0</td>\n",
       "      <td>0.0</td>\n",
       "      <td>0.0</td>\n",
       "      <td>1.0</td>\n",
       "      <td>0.0</td>\n",
       "      <td>0.0</td>\n",
       "      <td>0.0</td>\n",
       "      <td>0.0</td>\n",
       "      <td>0.0</td>\n",
       "      <td>0.0</td>\n",
       "      <td>0.0</td>\n",
       "      <td>0.0</td>\n",
       "      <td>1.0</td>\n",
       "      <td>0.0</td>\n",
       "      <td>0.0</td>\n",
       "      <td>1.0</td>\n",
       "      <td>1.0</td>\n",
       "      <td>0.0</td>\n",
       "      <td>0.0</td>\n",
       "      <td>0.0</td>\n",
       "      <td>0.0</td>\n",
       "      <td>0.0</td>\n",
       "      <td>0.0</td>\n",
       "      <td>0.0</td>\n",
       "      <td>0.0</td>\n",
       "      <td>1.0</td>\n",
       "      <td>0.0</td>\n",
       "      <td>0.0</td>\n",
       "      <td>0.0</td>\n",
       "      <td>0.0</td>\n",
       "      <td>0.0</td>\n",
       "      <td>0.0</td>\n",
       "      <td>1.0</td>\n",
       "      <td>0.0</td>\n",
       "      <td>0.0</td>\n",
       "      <td>0.0</td>\n",
       "      <td>0</td>\n",
       "    </tr>\n",
       "    <tr>\n",
       "      <th>1</th>\n",
       "      <td>1</td>\n",
       "      <td>-0.768751</td>\n",
       "      <td>0.475038</td>\n",
       "      <td>-0.401661</td>\n",
       "      <td>-0.930981</td>\n",
       "      <td>-1.523737</td>\n",
       "      <td>-0.166793</td>\n",
       "      <td>-1.075463</td>\n",
       "      <td>-1.031687</td>\n",
       "      <td>-1.707170</td>\n",
       "      <td>-0.674570</td>\n",
       "      <td>-1.864448</td>\n",
       "      <td>-1.236092</td>\n",
       "      <td>0.0</td>\n",
       "      <td>0.0</td>\n",
       "      <td>0.0</td>\n",
       "      <td>0.0</td>\n",
       "      <td>0.0</td>\n",
       "      <td>1.0</td>\n",
       "      <td>0.0</td>\n",
       "      <td>0.0</td>\n",
       "      <td>0.0</td>\n",
       "      <td>0.0</td>\n",
       "      <td>0.0</td>\n",
       "      <td>0.0</td>\n",
       "      <td>0.0</td>\n",
       "      <td>0.0</td>\n",
       "      <td>0.0</td>\n",
       "      <td>0.0</td>\n",
       "      <td>0.0</td>\n",
       "      <td>0.0</td>\n",
       "      <td>0.0</td>\n",
       "      <td>0.0</td>\n",
       "      <td>0.0</td>\n",
       "      <td>0.0</td>\n",
       "      <td>0.0</td>\n",
       "      <td>0.0</td>\n",
       "      <td>0.0</td>\n",
       "      <td>0.0</td>\n",
       "      <td>0.0</td>\n",
       "      <td>0.0</td>\n",
       "      <td>0.0</td>\n",
       "      <td>0.0</td>\n",
       "      <td>0.0</td>\n",
       "      <td>0.0</td>\n",
       "      <td>0.0</td>\n",
       "      <td>0.0</td>\n",
       "      <td>0.0</td>\n",
       "      <td>0.0</td>\n",
       "      <td>0.0</td>\n",
       "      <td>0.0</td>\n",
       "      <td>0.0</td>\n",
       "      <td>0.0</td>\n",
       "      <td>0.0</td>\n",
       "      <td>0.0</td>\n",
       "      <td>0.0</td>\n",
       "      <td>0.0</td>\n",
       "      <td>0.0</td>\n",
       "      <td>1.0</td>\n",
       "      <td>0.0</td>\n",
       "      <td>0.0</td>\n",
       "      <td>1.0</td>\n",
       "      <td>0.0</td>\n",
       "      <td>1.0</td>\n",
       "      <td>0.0</td>\n",
       "      <td>1.0</td>\n",
       "      <td>0.0</td>\n",
       "      <td>0.0</td>\n",
       "      <td>0.0</td>\n",
       "      <td>1.0</td>\n",
       "      <td>0.0</td>\n",
       "      <td>0.0</td>\n",
       "      <td>0.0</td>\n",
       "      <td>0.0</td>\n",
       "      <td>0.0</td>\n",
       "      <td>0.0</td>\n",
       "      <td>0.0</td>\n",
       "      <td>0.0</td>\n",
       "      <td>0.0</td>\n",
       "      <td>0.0</td>\n",
       "      <td>0.0</td>\n",
       "      <td>1.0</td>\n",
       "      <td>0.0</td>\n",
       "      <td>0.0</td>\n",
       "      <td>0.0</td>\n",
       "      <td>0</td>\n",
       "    </tr>\n",
       "    <tr>\n",
       "      <th>2</th>\n",
       "      <td>2</td>\n",
       "      <td>-0.191806</td>\n",
       "      <td>-0.106505</td>\n",
       "      <td>-0.145604</td>\n",
       "      <td>-0.930981</td>\n",
       "      <td>-1.581025</td>\n",
       "      <td>-0.166793</td>\n",
       "      <td>-0.422936</td>\n",
       "      <td>-1.031687</td>\n",
       "      <td>-0.684055</td>\n",
       "      <td>0.650894</td>\n",
       "      <td>-1.184988</td>\n",
       "      <td>-0.080909</td>\n",
       "      <td>0.0</td>\n",
       "      <td>0.0</td>\n",
       "      <td>0.0</td>\n",
       "      <td>0.0</td>\n",
       "      <td>0.0</td>\n",
       "      <td>0.0</td>\n",
       "      <td>1.0</td>\n",
       "      <td>0.0</td>\n",
       "      <td>0.0</td>\n",
       "      <td>0.0</td>\n",
       "      <td>0.0</td>\n",
       "      <td>0.0</td>\n",
       "      <td>0.0</td>\n",
       "      <td>0.0</td>\n",
       "      <td>0.0</td>\n",
       "      <td>0.0</td>\n",
       "      <td>0.0</td>\n",
       "      <td>0.0</td>\n",
       "      <td>0.0</td>\n",
       "      <td>0.0</td>\n",
       "      <td>0.0</td>\n",
       "      <td>0.0</td>\n",
       "      <td>0.0</td>\n",
       "      <td>0.0</td>\n",
       "      <td>0.0</td>\n",
       "      <td>0.0</td>\n",
       "      <td>0.0</td>\n",
       "      <td>0.0</td>\n",
       "      <td>0.0</td>\n",
       "      <td>0.0</td>\n",
       "      <td>0.0</td>\n",
       "      <td>0.0</td>\n",
       "      <td>0.0</td>\n",
       "      <td>0.0</td>\n",
       "      <td>0.0</td>\n",
       "      <td>0.0</td>\n",
       "      <td>0.0</td>\n",
       "      <td>0.0</td>\n",
       "      <td>0.0</td>\n",
       "      <td>0.0</td>\n",
       "      <td>0.0</td>\n",
       "      <td>0.0</td>\n",
       "      <td>0.0</td>\n",
       "      <td>0.0</td>\n",
       "      <td>0.0</td>\n",
       "      <td>1.0</td>\n",
       "      <td>0.0</td>\n",
       "      <td>0.0</td>\n",
       "      <td>0.0</td>\n",
       "      <td>1.0</td>\n",
       "      <td>0.0</td>\n",
       "      <td>1.0</td>\n",
       "      <td>1.0</td>\n",
       "      <td>0.0</td>\n",
       "      <td>0.0</td>\n",
       "      <td>0.0</td>\n",
       "      <td>1.0</td>\n",
       "      <td>0.0</td>\n",
       "      <td>0.0</td>\n",
       "      <td>0.0</td>\n",
       "      <td>0.0</td>\n",
       "      <td>0.0</td>\n",
       "      <td>0.0</td>\n",
       "      <td>0.0</td>\n",
       "      <td>0.0</td>\n",
       "      <td>0.0</td>\n",
       "      <td>0.0</td>\n",
       "      <td>0.0</td>\n",
       "      <td>0.0</td>\n",
       "      <td>1.0</td>\n",
       "      <td>0.0</td>\n",
       "      <td>0.0</td>\n",
       "      <td>0</td>\n",
       "    </tr>\n",
       "    <tr>\n",
       "      <th>3</th>\n",
       "      <td>3</td>\n",
       "      <td>-0.768751</td>\n",
       "      <td>0.475038</td>\n",
       "      <td>0.652406</td>\n",
       "      <td>-0.930981</td>\n",
       "      <td>-0.664420</td>\n",
       "      <td>-0.166793</td>\n",
       "      <td>-1.135696</td>\n",
       "      <td>-1.031687</td>\n",
       "      <td>-0.367682</td>\n",
       "      <td>-1.387553</td>\n",
       "      <td>-0.136808</td>\n",
       "      <td>0.122449</td>\n",
       "      <td>0.0</td>\n",
       "      <td>0.0</td>\n",
       "      <td>0.0</td>\n",
       "      <td>0.0</td>\n",
       "      <td>0.0</td>\n",
       "      <td>0.0</td>\n",
       "      <td>0.0</td>\n",
       "      <td>0.0</td>\n",
       "      <td>0.0</td>\n",
       "      <td>0.0</td>\n",
       "      <td>0.0</td>\n",
       "      <td>0.0</td>\n",
       "      <td>0.0</td>\n",
       "      <td>0.0</td>\n",
       "      <td>0.0</td>\n",
       "      <td>0.0</td>\n",
       "      <td>0.0</td>\n",
       "      <td>0.0</td>\n",
       "      <td>0.0</td>\n",
       "      <td>0.0</td>\n",
       "      <td>1.0</td>\n",
       "      <td>0.0</td>\n",
       "      <td>0.0</td>\n",
       "      <td>0.0</td>\n",
       "      <td>0.0</td>\n",
       "      <td>0.0</td>\n",
       "      <td>0.0</td>\n",
       "      <td>0.0</td>\n",
       "      <td>0.0</td>\n",
       "      <td>0.0</td>\n",
       "      <td>0.0</td>\n",
       "      <td>0.0</td>\n",
       "      <td>0.0</td>\n",
       "      <td>0.0</td>\n",
       "      <td>0.0</td>\n",
       "      <td>0.0</td>\n",
       "      <td>0.0</td>\n",
       "      <td>0.0</td>\n",
       "      <td>0.0</td>\n",
       "      <td>0.0</td>\n",
       "      <td>0.0</td>\n",
       "      <td>0.0</td>\n",
       "      <td>0.0</td>\n",
       "      <td>0.0</td>\n",
       "      <td>0.0</td>\n",
       "      <td>0.0</td>\n",
       "      <td>1.0</td>\n",
       "      <td>0.0</td>\n",
       "      <td>1.0</td>\n",
       "      <td>0.0</td>\n",
       "      <td>0.0</td>\n",
       "      <td>1.0</td>\n",
       "      <td>0.0</td>\n",
       "      <td>0.0</td>\n",
       "      <td>1.0</td>\n",
       "      <td>0.0</td>\n",
       "      <td>0.0</td>\n",
       "      <td>0.0</td>\n",
       "      <td>0.0</td>\n",
       "      <td>0.0</td>\n",
       "      <td>0.0</td>\n",
       "      <td>1.0</td>\n",
       "      <td>0.0</td>\n",
       "      <td>0.0</td>\n",
       "      <td>0.0</td>\n",
       "      <td>0.0</td>\n",
       "      <td>0.0</td>\n",
       "      <td>0.0</td>\n",
       "      <td>0.0</td>\n",
       "      <td>0.0</td>\n",
       "      <td>0.0</td>\n",
       "      <td>1.0</td>\n",
       "      <td>0</td>\n",
       "    </tr>\n",
       "    <tr>\n",
       "      <th>4</th>\n",
       "      <td>4</td>\n",
       "      <td>-0.768751</td>\n",
       "      <td>0.475038</td>\n",
       "      <td>0.319123</td>\n",
       "      <td>-0.930981</td>\n",
       "      <td>1.168791</td>\n",
       "      <td>-0.166793</td>\n",
       "      <td>-0.590250</td>\n",
       "      <td>-1.031687</td>\n",
       "      <td>-0.352668</td>\n",
       "      <td>-0.375692</td>\n",
       "      <td>-0.242636</td>\n",
       "      <td>0.598443</td>\n",
       "      <td>0.0</td>\n",
       "      <td>0.0</td>\n",
       "      <td>0.0</td>\n",
       "      <td>0.0</td>\n",
       "      <td>0.0</td>\n",
       "      <td>1.0</td>\n",
       "      <td>0.0</td>\n",
       "      <td>0.0</td>\n",
       "      <td>0.0</td>\n",
       "      <td>0.0</td>\n",
       "      <td>0.0</td>\n",
       "      <td>0.0</td>\n",
       "      <td>0.0</td>\n",
       "      <td>0.0</td>\n",
       "      <td>0.0</td>\n",
       "      <td>0.0</td>\n",
       "      <td>0.0</td>\n",
       "      <td>0.0</td>\n",
       "      <td>0.0</td>\n",
       "      <td>0.0</td>\n",
       "      <td>0.0</td>\n",
       "      <td>0.0</td>\n",
       "      <td>0.0</td>\n",
       "      <td>0.0</td>\n",
       "      <td>0.0</td>\n",
       "      <td>0.0</td>\n",
       "      <td>0.0</td>\n",
       "      <td>0.0</td>\n",
       "      <td>0.0</td>\n",
       "      <td>0.0</td>\n",
       "      <td>0.0</td>\n",
       "      <td>0.0</td>\n",
       "      <td>0.0</td>\n",
       "      <td>0.0</td>\n",
       "      <td>0.0</td>\n",
       "      <td>0.0</td>\n",
       "      <td>0.0</td>\n",
       "      <td>0.0</td>\n",
       "      <td>0.0</td>\n",
       "      <td>0.0</td>\n",
       "      <td>0.0</td>\n",
       "      <td>0.0</td>\n",
       "      <td>0.0</td>\n",
       "      <td>0.0</td>\n",
       "      <td>0.0</td>\n",
       "      <td>0.0</td>\n",
       "      <td>1.0</td>\n",
       "      <td>0.0</td>\n",
       "      <td>1.0</td>\n",
       "      <td>0.0</td>\n",
       "      <td>1.0</td>\n",
       "      <td>0.0</td>\n",
       "      <td>1.0</td>\n",
       "      <td>0.0</td>\n",
       "      <td>0.0</td>\n",
       "      <td>0.0</td>\n",
       "      <td>0.0</td>\n",
       "      <td>0.0</td>\n",
       "      <td>0.0</td>\n",
       "      <td>0.0</td>\n",
       "      <td>1.0</td>\n",
       "      <td>0.0</td>\n",
       "      <td>0.0</td>\n",
       "      <td>0.0</td>\n",
       "      <td>0.0</td>\n",
       "      <td>0.0</td>\n",
       "      <td>0.0</td>\n",
       "      <td>0.0</td>\n",
       "      <td>1.0</td>\n",
       "      <td>0.0</td>\n",
       "      <td>0.0</td>\n",
       "      <td>0.0</td>\n",
       "      <td>0</td>\n",
       "    </tr>\n",
       "  </tbody>\n",
       "</table>\n",
       "</div>"
      ],
      "text/plain": [
       "   Unnamed: 0   VehYear  VehicleAge    VehOdo    VNZIP1  VehBCost  \\\n",
       "0           0 -0.191806   -0.106505  0.157568 -0.930981 -1.065435   \n",
       "1           1 -0.768751    0.475038 -0.401661 -0.930981 -1.523737   \n",
       "2           2 -0.191806   -0.106505 -0.145604 -0.930981 -1.581025   \n",
       "3           3 -0.768751    0.475038  0.652406 -0.930981 -0.664420   \n",
       "4           4 -0.768751    0.475038  0.319123 -0.930981  1.168791   \n",
       "\n",
       "   IsOnlineSale  WarrantyCost  PurchYear  AcquisitionAuctionRatio  \\\n",
       "0     -0.166793      0.194455  -1.031687                -2.244656   \n",
       "1     -0.166793     -1.075463  -1.031687                -1.707170   \n",
       "2     -0.166793     -0.422936  -1.031687                -0.684055   \n",
       "3     -0.166793     -1.135696  -1.031687                -0.367682   \n",
       "4     -0.166793     -0.590250  -1.031687                -0.352668   \n",
       "\n",
       "   AcquisitionRetailRatio  CurrentAuctionRatio  CurrentRetailRatio  \\\n",
       "0               -0.629052            -1.410765           -0.681319   \n",
       "1               -0.674570            -1.864448           -1.236092   \n",
       "2                0.650894            -1.184988           -0.080909   \n",
       "3               -1.387553            -0.136808            0.122449   \n",
       "4               -0.375692            -0.242636            0.598443   \n",
       "\n",
       "   Make_ACURA  Make_BUICK  Make_CADILLAC  Make_CHEVROLET  Make_CHRYSLER  \\\n",
       "0         0.0         0.0            0.0             0.0            0.0   \n",
       "1         0.0         0.0            0.0             0.0            0.0   \n",
       "2         0.0         0.0            0.0             0.0            0.0   \n",
       "3         0.0         0.0            0.0             0.0            0.0   \n",
       "4         0.0         0.0            0.0             0.0            0.0   \n",
       "\n",
       "   Make_DODGE  Make_FORD  Make_GMC  Make_HONDA  Make_HUMMER  Make_HYUNDAI  \\\n",
       "0         1.0        0.0       0.0         0.0          0.0           0.0   \n",
       "1         1.0        0.0       0.0         0.0          0.0           0.0   \n",
       "2         0.0        1.0       0.0         0.0          0.0           0.0   \n",
       "3         0.0        0.0       0.0         0.0          0.0           0.0   \n",
       "4         1.0        0.0       0.0         0.0          0.0           0.0   \n",
       "\n",
       "   Make_INFINITI  Make_ISUZU  Make_JEEP  Make_KIA  Make_LEXUS  Make_LINCOLN  \\\n",
       "0            0.0         0.0        0.0       0.0         0.0           0.0   \n",
       "1            0.0         0.0        0.0       0.0         0.0           0.0   \n",
       "2            0.0         0.0        0.0       0.0         0.0           0.0   \n",
       "3            0.0         0.0        0.0       0.0         0.0           0.0   \n",
       "4            0.0         0.0        0.0       0.0         0.0           0.0   \n",
       "\n",
       "   Make_MAZDA  Make_MERCURY  Make_MINI  Make_MITSUBISHI  Make_NISSAN  \\\n",
       "0         0.0           0.0        0.0              0.0          0.0   \n",
       "1         0.0           0.0        0.0              0.0          0.0   \n",
       "2         0.0           0.0        0.0              0.0          0.0   \n",
       "3         0.0           0.0        0.0              1.0          0.0   \n",
       "4         0.0           0.0        0.0              0.0          0.0   \n",
       "\n",
       "   Make_OLDSMOBILE  Make_PLYMOUTH  Make_PONTIAC  Make_SATURN  Make_SCION  \\\n",
       "0              0.0            0.0           0.0          0.0         0.0   \n",
       "1              0.0            0.0           0.0          0.0         0.0   \n",
       "2              0.0            0.0           0.0          0.0         0.0   \n",
       "3              0.0            0.0           0.0          0.0         0.0   \n",
       "4              0.0            0.0           0.0          0.0         0.0   \n",
       "\n",
       "   Make_SUBARU  Make_SUZUKI  Make_TOYOTA  Make_VOLKSWAGEN  Make_VOLVO  \\\n",
       "0          0.0          0.0          0.0              0.0         0.0   \n",
       "1          0.0          0.0          0.0              0.0         0.0   \n",
       "2          0.0          0.0          0.0              0.0         0.0   \n",
       "3          0.0          0.0          0.0              0.0         0.0   \n",
       "4          0.0          0.0          0.0              0.0         0.0   \n",
       "\n",
       "   Color_BEIGE  Color_BLACK  Color_BLUE  Color_BROWN  Color_GOLD  Color_GREEN  \\\n",
       "0          0.0          0.0         0.0          0.0         0.0          0.0   \n",
       "1          0.0          0.0         0.0          0.0         0.0          0.0   \n",
       "2          0.0          0.0         0.0          0.0         0.0          0.0   \n",
       "3          0.0          0.0         0.0          0.0         0.0          0.0   \n",
       "4          0.0          0.0         0.0          0.0         0.0          0.0   \n",
       "\n",
       "   Color_GREY  Color_MAROON  Color_NOT AVAIL  Color_ORANGE  Color_OTHER  \\\n",
       "0         0.0           1.0              0.0           0.0          0.0   \n",
       "1         0.0           0.0              0.0           0.0          0.0   \n",
       "2         0.0           0.0              0.0           0.0          0.0   \n",
       "3         0.0           0.0              0.0           0.0          0.0   \n",
       "4         0.0           0.0              0.0           0.0          0.0   \n",
       "\n",
       "   Color_PURPLE  Color_RED  Color_SILVER  Color_WHITE  Color_YELLOW  \\\n",
       "0           0.0        0.0           0.0          0.0           0.0   \n",
       "1           0.0        0.0           1.0          0.0           0.0   \n",
       "2           0.0        0.0           1.0          0.0           0.0   \n",
       "3           0.0        0.0           0.0          1.0           0.0   \n",
       "4           0.0        0.0           0.0          1.0           0.0   \n",
       "\n",
       "   Transmission_AUTO  Transmission_MANUAL  WheelType_Alloy  WheelType_Covers  \\\n",
       "0                1.0                  0.0              0.0               1.0   \n",
       "1                1.0                  0.0              1.0               0.0   \n",
       "2                0.0                  1.0              0.0               1.0   \n",
       "3                1.0                  0.0              0.0               1.0   \n",
       "4                1.0                  0.0              1.0               0.0   \n",
       "\n",
       "   Nationality_AMERICAN  Nationality_OTHER  Nationality_OTHER ASIAN  \\\n",
       "0                   1.0                0.0                      0.0   \n",
       "1                   1.0                0.0                      0.0   \n",
       "2                   1.0                0.0                      0.0   \n",
       "3                   0.0                0.0                      1.0   \n",
       "4                   1.0                0.0                      0.0   \n",
       "\n",
       "   Nationality_TOP LINE ASIAN  Size_COMPACT  Size_CROSSOVER  Size_LARGE  \\\n",
       "0                         0.0           0.0             0.0         0.0   \n",
       "1                         0.0           1.0             0.0         0.0   \n",
       "2                         0.0           1.0             0.0         0.0   \n",
       "3                         0.0           0.0             0.0         0.0   \n",
       "4                         0.0           0.0             0.0         0.0   \n",
       "\n",
       "   Size_LARGE SUV  Size_LARGE TRUCK  Size_MEDIUM  Size_MEDIUM SUV  \\\n",
       "0             0.0               0.0          1.0              0.0   \n",
       "1             0.0               0.0          0.0              0.0   \n",
       "2             0.0               0.0          0.0              0.0   \n",
       "3             0.0               0.0          1.0              0.0   \n",
       "4             0.0               1.0          0.0              0.0   \n",
       "\n",
       "   Size_SMALL SUV  Size_SMALL TRUCK  Size_SPECIALTY  Size_SPORTS  Size_VAN  \\\n",
       "0             0.0               0.0             0.0          0.0       0.0   \n",
       "1             0.0               0.0             0.0          0.0       0.0   \n",
       "2             0.0               0.0             0.0          0.0       0.0   \n",
       "3             0.0               0.0             0.0          0.0       0.0   \n",
       "4             0.0               0.0             0.0          0.0       0.0   \n",
       "\n",
       "   TopThreeAmericanName_CHRYSLER  TopThreeAmericanName_FORD  \\\n",
       "0                            1.0                        0.0   \n",
       "1                            1.0                        0.0   \n",
       "2                            0.0                        1.0   \n",
       "3                            0.0                        0.0   \n",
       "4                            1.0                        0.0   \n",
       "\n",
       "   TopThreeAmericanName_GM  TopThreeAmericanName_OTHER  IsBadBuy  \n",
       "0                      0.0                         0.0         0  \n",
       "1                      0.0                         0.0         0  \n",
       "2                      0.0                         0.0         0  \n",
       "3                      0.0                         1.0         0  \n",
       "4                      0.0                         0.0         0  "
      ]
     },
     "execution_count": 2,
     "metadata": {},
     "output_type": "execute_result"
    }
   ],
   "source": [
    "carvana = pd.read_csv(\"final_data.csv\")\n",
    "carvana.head()"
   ]
  },
  {
   "cell_type": "code",
   "execution_count": 3,
   "metadata": {},
   "outputs": [],
   "source": [
    "X = carvana.drop([\"Unnamed: 0\", \"IsBadBuy\"], axis = 1)\n",
    "y = carvana['IsBadBuy']"
   ]
  },
  {
   "cell_type": "markdown",
   "metadata": {},
   "source": [
    "F-ja za izracunavanje evaluacionih metrika:"
   ]
  },
  {
   "cell_type": "code",
   "execution_count": 4,
   "metadata": {},
   "outputs": [],
   "source": [
    "from sklearn.metrics import confusion_matrix\n",
    "from sklearn.metrics import precision_score, recall_score, f1_score, accuracy_score, roc_auc_score\n",
    "\n",
    "def print_performance(y, y_pred):\n",
    "    print(f'Accuracy : {accuracy_score(y, y_pred)}')\n",
    "    print(f'Precision : {precision_score(y, y_pred)}')\n",
    "    print(f'Recall : {recall_score(y, y_pred)}')\n",
    "    print(f'F1 : {f1_score(y, y_pred)}')"
   ]
  },
  {
   "cell_type": "markdown",
   "metadata": {},
   "source": [
    "Podelimo podatke u train i test:"
   ]
  },
  {
   "cell_type": "code",
   "execution_count": 5,
   "metadata": {},
   "outputs": [],
   "source": [
    "from sklearn.model_selection import train_test_split\n",
    "X_train, X_test, y_train, y_test = train_test_split(X, y, test_size=0.3, random_state=2019)"
   ]
  },
  {
   "cell_type": "markdown",
   "metadata": {},
   "source": [
    "# KREIRANJE MODELA"
   ]
  },
  {
   "cell_type": "markdown",
   "metadata": {},
   "source": [
    "#### STABLO ODLUCIVANJA"
   ]
  },
  {
   "cell_type": "markdown",
   "metadata": {},
   "source": [
    "Napravimo model stabla odlucivanja sa default parametrima:"
   ]
  },
  {
   "cell_type": "code",
   "execution_count": 6,
   "metadata": {},
   "outputs": [
    {
     "data": {
      "text/plain": [
       "DecisionTreeClassifier()"
      ]
     },
     "execution_count": 6,
     "metadata": {},
     "output_type": "execute_result"
    }
   ],
   "source": [
    "from sklearn.tree import DecisionTreeClassifier\n",
    "from sklearn.model_selection import cross_val_score\n",
    "\n",
    "tree = DecisionTreeClassifier()\n",
    "tree.fit(X_train, y_train)"
   ]
  },
  {
   "cell_type": "markdown",
   "metadata": {},
   "source": [
    "Auc na train delu:"
   ]
  },
  {
   "cell_type": "code",
   "execution_count": 7,
   "metadata": {},
   "outputs": [
    {
     "data": {
      "text/plain": [
       "0.5260300065032719"
      ]
     },
     "execution_count": 7,
     "metadata": {},
     "output_type": "execute_result"
    }
   ],
   "source": [
    "cross_val_score(tree ,X_train, y_train, cv = 10, scoring=\"roc_auc\").mean()"
   ]
  },
  {
   "cell_type": "markdown",
   "metadata": {},
   "source": [
    "Kreirajmo predikcije i matricu konfuzije na test delu:"
   ]
  },
  {
   "cell_type": "code",
   "execution_count": 8,
   "metadata": {},
   "outputs": [
    {
     "data": {
      "text/plain": [
       "array([[1515,  250],\n",
       "       [ 232,   43]], dtype=int64)"
      ]
     },
     "execution_count": 8,
     "metadata": {},
     "output_type": "execute_result"
    }
   ],
   "source": [
    "y_pred_tree = tree.predict_proba(X_test)[:, 1] > 0.1\n",
    "confusion_matrix(y_test, y_pred_tree)"
   ]
  },
  {
   "cell_type": "markdown",
   "metadata": {},
   "source": [
    "Izracunajmo i prikazimo standardne evaluacione metrike:"
   ]
  },
  {
   "cell_type": "code",
   "execution_count": 9,
   "metadata": {},
   "outputs": [
    {
     "name": "stdout",
     "output_type": "stream",
     "text": [
      "Accuracy : 0.7637254901960784\n",
      "Precision : 0.14675767918088736\n",
      "Recall : 0.15636363636363637\n",
      "F1 : 0.15140845070422537\n"
     ]
    }
   ],
   "source": [
    "print_performance(y_test, y_pred_tree)"
   ]
  },
  {
   "cell_type": "markdown",
   "metadata": {},
   "source": [
    "Auc na test delu:"
   ]
  },
  {
   "cell_type": "code",
   "execution_count": 10,
   "metadata": {},
   "outputs": [
    {
     "data": {
      "text/plain": [
       "0.5073602884367756"
      ]
     },
     "execution_count": 10,
     "metadata": {},
     "output_type": "execute_result"
    }
   ],
   "source": [
    "roc_auc_score(y_test, y_pred_tree)"
   ]
  },
  {
   "cell_type": "markdown",
   "metadata": {},
   "source": [
    "#### LOGISTICKA REGRESIJA"
   ]
  },
  {
   "cell_type": "markdown",
   "metadata": {},
   "source": [
    "Kreirajmo model logisticke regresije sa default parametrima:"
   ]
  },
  {
   "cell_type": "code",
   "execution_count": 11,
   "metadata": {},
   "outputs": [
    {
     "data": {
      "text/plain": [
       "LogisticRegression(solver='liblinear')"
      ]
     },
     "execution_count": 11,
     "metadata": {},
     "output_type": "execute_result"
    }
   ],
   "source": [
    "from sklearn.linear_model import LogisticRegression\n",
    "\n",
    "lr = LogisticRegression(solver=\"liblinear\")\n",
    "lr.fit(X_train, y_train)"
   ]
  },
  {
   "cell_type": "markdown",
   "metadata": {},
   "source": [
    "Auc na train delu:"
   ]
  },
  {
   "cell_type": "code",
   "execution_count": 12,
   "metadata": {},
   "outputs": [
    {
     "data": {
      "text/plain": [
       "0.6759452661143575"
      ]
     },
     "execution_count": 12,
     "metadata": {},
     "output_type": "execute_result"
    }
   ],
   "source": [
    "cross_val_score(lr, X_train, y_train, cv = 10, scoring=\"roc_auc\").mean()"
   ]
  },
  {
   "cell_type": "markdown",
   "metadata": {},
   "source": [
    "Kreirajmo predikcije i matricu konfuzije na test delu:"
   ]
  },
  {
   "cell_type": "code",
   "execution_count": 13,
   "metadata": {},
   "outputs": [
    {
     "data": {
      "text/plain": [
       "array([[923, 842],\n",
       "       [ 79, 196]], dtype=int64)"
      ]
     },
     "execution_count": 13,
     "metadata": {},
     "output_type": "execute_result"
    }
   ],
   "source": [
    "y_pred_lr = lr.predict_proba(X_test)[:, 1] >= 0.1\n",
    "confusion_matrix(y_test, y_pred_lr)"
   ]
  },
  {
   "cell_type": "markdown",
   "metadata": {},
   "source": [
    "Sracunajmo i ispisimo standardne evaluacione metrike:"
   ]
  },
  {
   "cell_type": "code",
   "execution_count": 14,
   "metadata": {},
   "outputs": [
    {
     "name": "stdout",
     "output_type": "stream",
     "text": [
      "Accuracy : 0.5485294117647059\n",
      "Precision : 0.18882466281310212\n",
      "Recall : 0.7127272727272728\n",
      "F1 : 0.2985529322162985\n"
     ]
    }
   ],
   "source": [
    "print_performance(y_test, y_pred_lr)"
   ]
  },
  {
   "cell_type": "markdown",
   "metadata": {},
   "source": [
    "Auc na test delu:"
   ]
  },
  {
   "cell_type": "code",
   "execution_count": 15,
   "metadata": {},
   "outputs": [
    {
     "data": {
      "text/plain": [
       "0.6178367241823333"
      ]
     },
     "execution_count": 15,
     "metadata": {},
     "output_type": "execute_result"
    }
   ],
   "source": [
    "roc_auc_score(y_test, y_pred_lr)"
   ]
  },
  {
   "cell_type": "markdown",
   "metadata": {},
   "source": [
    "#### KNN"
   ]
  },
  {
   "cell_type": "markdown",
   "metadata": {},
   "source": [
    "Kreirajmo model KNN sa default hiperparametrima:"
   ]
  },
  {
   "cell_type": "code",
   "execution_count": 16,
   "metadata": {},
   "outputs": [
    {
     "data": {
      "text/plain": [
       "KNeighborsClassifier()"
      ]
     },
     "execution_count": 16,
     "metadata": {},
     "output_type": "execute_result"
    }
   ],
   "source": [
    "from sklearn.neighbors import KNeighborsClassifier\n",
    "\n",
    "knn = KNeighborsClassifier()\n",
    "knn.fit(X_train, y_train)"
   ]
  },
  {
   "cell_type": "markdown",
   "metadata": {},
   "source": [
    "Auc na train-u:"
   ]
  },
  {
   "cell_type": "code",
   "execution_count": 17,
   "metadata": {},
   "outputs": [
    {
     "data": {
      "text/plain": [
       "0.5792606385067957"
      ]
     },
     "execution_count": 17,
     "metadata": {},
     "output_type": "execute_result"
    }
   ],
   "source": [
    "cross_val_score(knn, X_train, y_train, cv = 10, scoring = 'roc_auc').mean()"
   ]
  },
  {
   "cell_type": "markdown",
   "metadata": {},
   "source": [
    "Kreirajmo predikcije i matricu konfuzije na test setu:"
   ]
  },
  {
   "cell_type": "code",
   "execution_count": 18,
   "metadata": {},
   "outputs": [
    {
     "data": {
      "text/plain": [
       "array([[989, 776],\n",
       "       [126, 149]], dtype=int64)"
      ]
     },
     "execution_count": 18,
     "metadata": {},
     "output_type": "execute_result"
    }
   ],
   "source": [
    "y_pred_knn = knn.predict_proba(X_test)[:, 1] >= 0.1\n",
    "confusion_matrix(y_test, y_pred_knn)"
   ]
  },
  {
   "cell_type": "markdown",
   "metadata": {},
   "source": [
    "Sracunajmo i odstampajmo standardne evaluacione metrike:"
   ]
  },
  {
   "cell_type": "code",
   "execution_count": 19,
   "metadata": {},
   "outputs": [
    {
     "name": "stdout",
     "output_type": "stream",
     "text": [
      "Accuracy : 0.557843137254902\n",
      "Precision : 0.16108108108108107\n",
      "Recall : 0.5418181818181819\n",
      "F1 : 0.24833333333333332\n"
     ]
    }
   ],
   "source": [
    "print_performance(y_test, y_pred_knn)"
   ]
  },
  {
   "cell_type": "markdown",
   "metadata": {},
   "source": [
    "Auc na test delu:"
   ]
  },
  {
   "cell_type": "code",
   "execution_count": 20,
   "metadata": {},
   "outputs": [
    {
     "data": {
      "text/plain": [
       "0.5510790625804791"
      ]
     },
     "execution_count": 20,
     "metadata": {},
     "output_type": "execute_result"
    }
   ],
   "source": [
    "roc_auc_score(y_test, y_pred_knn)"
   ]
  },
  {
   "cell_type": "markdown",
   "metadata": {},
   "source": [
    "#### VOTING"
   ]
  },
  {
   "cell_type": "markdown",
   "metadata": {},
   "source": [
    "Kreirajmo VotingClassifier sa default hiperparametrima algoritama koji glasaju:"
   ]
  },
  {
   "cell_type": "code",
   "execution_count": 21,
   "metadata": {},
   "outputs": [
    {
     "data": {
      "text/plain": [
       "VotingClassifier(estimators=[('lr', LogisticRegression(solver='liblinear')),\n",
       "                             ('tree', DecisionTreeClassifier()),\n",
       "                             ('knn', KNeighborsClassifier())],\n",
       "                 voting='soft')"
      ]
     },
     "execution_count": 21,
     "metadata": {},
     "output_type": "execute_result"
    }
   ],
   "source": [
    "from sklearn.ensemble import VotingClassifier\n",
    "\n",
    "model_voting = VotingClassifier(voting = \"soft\", estimators=[('lr', lr), ('tree', tree), ('knn', knn)])\n",
    "\n",
    "model_voting.fit(X_train, y_train)"
   ]
  },
  {
   "cell_type": "markdown",
   "metadata": {},
   "source": [
    "Auc na train delu:"
   ]
  },
  {
   "cell_type": "code",
   "execution_count": 22,
   "metadata": {},
   "outputs": [
    {
     "data": {
      "text/plain": [
       "0.6323662281061722"
      ]
     },
     "execution_count": 22,
     "metadata": {},
     "output_type": "execute_result"
    }
   ],
   "source": [
    "cross_val_score(model_voting, X_train, y_train, cv=10, scoring='roc_auc').mean()"
   ]
  },
  {
   "cell_type": "markdown",
   "metadata": {},
   "source": [
    "Kreirajmo predikcije i matricu konfuzije:"
   ]
  },
  {
   "cell_type": "code",
   "execution_count": 23,
   "metadata": {},
   "outputs": [
    {
     "data": {
      "text/plain": [
       "array([[1077,  688],\n",
       "       [ 131,  144]], dtype=int64)"
      ]
     },
     "execution_count": 23,
     "metadata": {},
     "output_type": "execute_result"
    }
   ],
   "source": [
    "y_pred_voting = model_voting.predict_proba(X_test)[:,1] > 0.1\n",
    "confusion_matrix(y_test, y_pred_voting)"
   ]
  },
  {
   "cell_type": "code",
   "execution_count": 35,
   "metadata": {},
   "outputs": [
    {
     "name": "stdout",
     "output_type": "stream",
     "text": [
      "Accuracy : 0.5985294117647059\n",
      "Precision : 0.17307692307692307\n",
      "Recall : 0.5236363636363637\n",
      "F1 : 0.26016260162601623\n"
     ]
    }
   ],
   "source": [
    "print_performance(y_test, y_pred_voting)"
   ]
  },
  {
   "cell_type": "markdown",
   "metadata": {},
   "source": [
    "Auc na test delu:"
   ]
  },
  {
   "cell_type": "code",
   "execution_count": 24,
   "metadata": {},
   "outputs": [
    {
     "data": {
      "text/plain": [
       "0.5669173319598249"
      ]
     },
     "execution_count": 24,
     "metadata": {},
     "output_type": "execute_result"
    }
   ],
   "source": [
    "roc_auc_score(y_test, y_pred_voting)"
   ]
  },
  {
   "cell_type": "markdown",
   "metadata": {},
   "source": [
    "#### STACKING"
   ]
  },
  {
   "cell_type": "markdown",
   "metadata": {},
   "source": [
    "Kreirajmo StackingClassifier sa difoltnim hiperparametrima algoritama koji glasaju:"
   ]
  },
  {
   "cell_type": "code",
   "execution_count": 25,
   "metadata": {},
   "outputs": [
    {
     "data": {
      "text/plain": [
       "StackingClassifier(classifiers=[LogisticRegression(solver='liblinear'),\n",
       "                                DecisionTreeClassifier()],\n",
       "                   meta_classifier=LogisticRegression(solver='liblinear'),\n",
       "                   use_features_in_secondary=True)"
      ]
     },
     "execution_count": 25,
     "metadata": {},
     "output_type": "execute_result"
    }
   ],
   "source": [
    "from mlxtend.classifier import StackingClassifier\n",
    "model_stacking = StackingClassifier(classifiers = [lr, tree],\n",
    "                                   meta_classifier = lr,\n",
    "                                   use_features_in_secondary=True)\n",
    "model_stacking.fit(X_train, y_train)"
   ]
  },
  {
   "cell_type": "markdown",
   "metadata": {},
   "source": [
    "Auc na train delu:"
   ]
  },
  {
   "cell_type": "code",
   "execution_count": 26,
   "metadata": {},
   "outputs": [
    {
     "data": {
      "text/plain": [
       "0.6426524316726542"
      ]
     },
     "execution_count": 26,
     "metadata": {},
     "output_type": "execute_result"
    }
   ],
   "source": [
    "cross_val_score(model_stacking, X_train, y_train, cv=10, scoring='roc_auc').mean()"
   ]
  },
  {
   "cell_type": "markdown",
   "metadata": {},
   "source": [
    "Kreirajmo predikcije i matricu konfuzije:"
   ]
  },
  {
   "cell_type": "code",
   "execution_count": 27,
   "metadata": {},
   "outputs": [
    {
     "data": {
      "text/plain": [
       "array([[1516,  249],\n",
       "       [ 238,   37]], dtype=int64)"
      ]
     },
     "execution_count": 27,
     "metadata": {},
     "output_type": "execute_result"
    }
   ],
   "source": [
    "y_pred_stacking = model_stacking.predict_proba(X_test)[:,1] > 0.1\n",
    "confusion_matrix(y_test, y_pred_stacking)"
   ]
  },
  {
   "cell_type": "markdown",
   "metadata": {},
   "source": [
    "Sracunajmo osnovne evaluacione metrike iz matrice konfuzije:"
   ]
  },
  {
   "cell_type": "code",
   "execution_count": 28,
   "metadata": {},
   "outputs": [
    {
     "name": "stdout",
     "output_type": "stream",
     "text": [
      "Accuracy : 0.7612745098039215\n",
      "Precision : 0.12937062937062938\n",
      "Recall : 0.13454545454545455\n",
      "F1 : 0.13190730837789663\n"
     ]
    }
   ],
   "source": [
    "print_performance(y_test, y_pred_stacking)"
   ]
  },
  {
   "cell_type": "markdown",
   "metadata": {},
   "source": [
    "Auc na test delu:"
   ]
  },
  {
   "cell_type": "code",
   "execution_count": 29,
   "metadata": {},
   "outputs": [
    {
     "data": {
      "text/plain": [
       "0.496734483646665"
      ]
     },
     "execution_count": 29,
     "metadata": {},
     "output_type": "execute_result"
    }
   ],
   "source": [
    "roc_auc_score(y_test, y_pred_stacking)"
   ]
  },
  {
   "cell_type": "markdown",
   "metadata": {},
   "source": [
    "#### BAGGING"
   ]
  },
  {
   "cell_type": "code",
   "execution_count": 30,
   "metadata": {},
   "outputs": [
    {
     "data": {
      "text/plain": [
       "BaggingClassifier(base_estimator=LogisticRegression(solver='liblinear'),\n",
       "                  bootstrap=100)"
      ]
     },
     "execution_count": 30,
     "metadata": {},
     "output_type": "execute_result"
    }
   ],
   "source": [
    "from sklearn.ensemble import BaggingClassifier\n",
    "model_bagging = BaggingClassifier(base_estimator = lr, bootstrap=100)\n",
    "model_bagging.fit(X_train, y_train)"
   ]
  },
  {
   "cell_type": "markdown",
   "metadata": {},
   "source": [
    "Auc na train delu:"
   ]
  },
  {
   "cell_type": "code",
   "execution_count": 31,
   "metadata": {},
   "outputs": [
    {
     "data": {
      "text/plain": [
       "0.6717804626898222"
      ]
     },
     "execution_count": 31,
     "metadata": {},
     "output_type": "execute_result"
    }
   ],
   "source": [
    "cross_val_score(model_bagging, X_train, y_train, cv=10, scoring='roc_auc').mean()"
   ]
  },
  {
   "cell_type": "markdown",
   "metadata": {},
   "source": [
    "Kreirajmo predikcije i matricu konfuzije na test delu:"
   ]
  },
  {
   "cell_type": "code",
   "execution_count": 32,
   "metadata": {},
   "outputs": [
    {
     "data": {
      "text/plain": [
       "array([[926, 839],\n",
       "       [ 78, 197]], dtype=int64)"
      ]
     },
     "execution_count": 32,
     "metadata": {},
     "output_type": "execute_result"
    }
   ],
   "source": [
    "y_pred_bagging = model_bagging.predict_proba(X_test)[:, 1] > 0.1\n",
    "confusion_matrix(y_test, y_pred_bagging)"
   ]
  },
  {
   "cell_type": "markdown",
   "metadata": {},
   "source": [
    "Sracunajmo i ispisimo standardne evaluacione metrike:"
   ]
  },
  {
   "cell_type": "code",
   "execution_count": 33,
   "metadata": {},
   "outputs": [
    {
     "name": "stdout",
     "output_type": "stream",
     "text": [
      "Accuracy : 0.5504901960784314\n",
      "Precision : 0.19015444015444016\n",
      "Recall : 0.7163636363636363\n",
      "F1 : 0.30053394355453855\n"
     ]
    }
   ],
   "source": [
    "print_performance(y_test, y_pred_bagging)"
   ]
  },
  {
   "cell_type": "markdown",
   "metadata": {},
   "source": [
    "Auc na test delu:"
   ]
  },
  {
   "cell_type": "code",
   "execution_count": 34,
   "metadata": {},
   "outputs": [
    {
     "data": {
      "text/plain": [
       "0.6205047643574555"
      ]
     },
     "execution_count": 34,
     "metadata": {},
     "output_type": "execute_result"
    }
   ],
   "source": [
    "roc_auc_score(y_test, y_pred_bagging)"
   ]
  },
  {
   "cell_type": "code",
   "execution_count": null,
   "metadata": {},
   "outputs": [],
   "source": []
  }
 ],
 "metadata": {
  "kernelspec": {
   "display_name": "Python 3",
   "language": "python",
   "name": "python3"
  },
  "language_info": {
   "codemirror_mode": {
    "name": "ipython",
    "version": 3
   },
   "file_extension": ".py",
   "mimetype": "text/x-python",
   "name": "python",
   "nbconvert_exporter": "python",
   "pygments_lexer": "ipython3",
   "version": "3.8.5"
  }
 },
 "nbformat": 4,
 "nbformat_minor": 4
}
